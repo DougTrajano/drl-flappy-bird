{
 "cells": [
  {
   "cell_type": "markdown",
   "metadata": {},
   "source": [
    "# Flappy Bird - Deep Q-Network\n",
    "\n",
    "In this notebook, we will implement a **Deep Q-Network (DQN)** for the Flappy Bird game.\n",
    "\n",
    "The **Deep Q-Network (DQN) algorithm** is a variant of the Q-Learning that uses a neural network to approximate the Q-function. In 2013, DeepMind proposed this algorithm as a way to solve Atari games with a high level of efficiency.\n",
    "\n",
    "Two different memory approaches are used:\n",
    "\n",
    "- **Experience Replay (ER)**: The most common approach, where the most recent experiences are stored in a replay memory.\n",
    "- **Prioritized Experience Replay (PER)**: The approach where experiences are stored in a replay memory and the importance of each experience is stored in a priority queue.\n",
    "\n",
    "## Index\n",
    "\n",
    "- [1. Initial Setup](#1.-Initial-Setup)\n",
    "- [2. Check the Gym environment](#2-check-the-gym-environment)\n",
    "- [3. Define custom functions](#3-define-custom-functions)\n",
    "- [4. Training the RL agent](#4-training-the-rl-agent)\n",
    "  - [4.1 Agent (Replay Memory) - Training](#4-1-agent-replay-memory-training)\n",
    "  - [4.1 Agent (Replay Memory) - Scores](#4-1-agent-replay-memory-scores)\n",
    "  - [4.1 Agent (Replay Memory) - Losses](#4-1-agent-replay-memory-losses)\n",
    "  - [4.2 Agent (Prioritized Memory) - Training](#4-2-agent-prioritized-memory-training)\n",
    "  - [4.2 Agent (Prioritized Memory) - Scores](#4-2-agent-prioritized-memory-scores)\n",
    "  - [4.2 Agent (Prioritized Memory) - Losses](#4-2-agent-prioritized-memory-losses)\n",
    "- [5. Save network weights](#5-save-network-weights)\n",
    "- [6. Load network weights](#6-load-network-weights)\n",
    "- [7. Test the agent](#7-test-the-agent)\n",
    "- [8. Conclusions](#8-conclusions)\n",
    "\n",
    "## References\n",
    "\n",
    "- [[1312.5602] Playing Atari with Deep Reinforcement Learning](https://arxiv.org/abs/1312.5602)\n",
    "- [[2007.06700] Revisiting Fundamentals of Experience Replay](https://arxiv.org/abs/2007.06700)\n",
    "- [[1511.05952] Prioritized Experience Replay](https://arxiv.org/abs/1511.05952)"
   ]
  },
  {
   "cell_type": "markdown",
   "metadata": {},
   "source": [
    "## 1. Initial Setup"
   ]
  },
  {
   "cell_type": "markdown",
   "metadata": {},
   "source": [
    "Add project root directory to the path."
   ]
  },
  {
   "cell_type": "code",
   "execution_count": 16,
   "metadata": {},
   "outputs": [],
   "source": [
    "import sys\n",
    "from pathlib import Path\n",
    "\n",
    "if str(Path(\".\").absolute().parent) not in sys.path:\n",
    "    sys.path.append(str(Path(\".\").absolute().parent))"
   ]
  },
  {
   "cell_type": "markdown",
   "metadata": {},
   "source": [
    "Imports modules"
   ]
  },
  {
   "cell_type": "code",
   "execution_count": 17,
   "metadata": {},
   "outputs": [],
   "source": [
    "import cv2\n",
    "import numpy as np\n",
    "import flappy_bird_gym\n",
    "import matplotlib.pyplot as plt\n",
    "\n",
    "from src.trainer import Trainer\n",
    "from src.utils import play_env\n",
    "from src.dqn.agent import Agent\n",
    "from src.dqn.config import AgentConfig\n",
    "\n",
    "seed = 1993"
   ]
  },
  {
   "cell_type": "markdown",
   "metadata": {},
   "source": [
    "## 2. Check the Gym environment\n",
    "\n",
    "Before we start, we need to check how the environment works. For this, we will check the action space and observation space."
   ]
  },
  {
   "cell_type": "code",
   "execution_count": 18,
   "metadata": {},
   "outputs": [
    {
     "name": "stdout",
     "output_type": "stream",
     "text": [
      "Number of actions: 2\n",
      "Sample state shape: (2,)\n",
      "Sample state: [ 1.65625    -0.20117188]\n"
     ]
    }
   ],
   "source": [
    "env = flappy_bird_gym.make(\"FlappyBird-v0\")\n",
    "\n",
    "env.seed(seed)\n",
    "\n",
    "action_size = env.action_space.n\n",
    "state_size = env.observation_space.shape[0]\n",
    "\n",
    "print(f\"Number of actions: {action_size}\")\n",
    "print(f\"Sample state shape: {env.observation_space.shape}\")\n",
    "print(f\"Sample state: {env.reset()}\")"
   ]
  },
  {
   "cell_type": "markdown",
   "metadata": {},
   "source": [
    "## 3. Define custom functions\n",
    "\n",
    "In the next cell, we define a `custom_prep_state()` function that will be used to preprocess the state of the game.\n",
    "\n",
    "We will replace the `prep_state()` function of the agent with this one."
   ]
  },
  {
   "cell_type": "code",
   "execution_count": 19,
   "metadata": {},
   "outputs": [
    {
     "name": "stdout",
     "output_type": "stream",
     "text": [
      "Shape of state: (2,)\n"
     ]
    },
    {
     "data": {
      "text/plain": [
       "array([ 1.65625   , -0.10351562])"
      ]
     },
     "execution_count": 19,
     "metadata": {},
     "output_type": "execute_result"
    }
   ],
   "source": [
    "def reshape_image(image: np.ndarray, shape: tuple):\n",
    "    \"\"\"\n",
    "    Reshape an image to a given shape.\n",
    "\n",
    "    Args:\n",
    "    - image: Image to reshape.\n",
    "    - shape: Shape to reshape the image to. e.g. (84, 84)\n",
    "\n",
    "    Returns:\n",
    "    - Reshaped image.\n",
    "    \"\"\"\n",
    "    return cv2.resize(image, shape)\n",
    "    \n",
    "def custom_prep_state(state: np.ndarray) -> np.ndarray:\n",
    "    # Reshape the image to 84x84\n",
    "    #state = reshape_image(state, (84, 84))\n",
    "\n",
    "    # Convert the image to grayscale\n",
    "    #state = cv2.cvtColor(state, cv2.COLOR_RGB2GRAY)\n",
    "\n",
    "    #state = state.ravel()\n",
    "    return state\n",
    "\n",
    "sample_state = custom_prep_state(env.reset())\n",
    "print(f\"Shape of state: {sample_state.shape}\")\n",
    "sample_state"
   ]
  },
  {
   "cell_type": "markdown",
   "metadata": {},
   "source": [
    "## 4. Training the RL agent\n",
    "\n",
    "Firstly, we will instantiate the AgentConfig that defines the hyperparameters of our DQN Agent."
   ]
  },
  {
   "cell_type": "code",
   "execution_count": 20,
   "metadata": {},
   "outputs": [
    {
     "data": {
      "text/plain": [
       "{'state_size': 2,\n",
       " 'action_size': 2,\n",
       " 'seed': 1993,\n",
       " 'nb_hidden': (64, 64),\n",
       " 'learning_rate': 0.0005,\n",
       " 'memory_size': 100000,\n",
       " 'prioritized_memory': False,\n",
       " 'batch_size': 64,\n",
       " 'gamma': 0.99,\n",
       " 'tau': 0.001,\n",
       " 'small_eps': 0.03,\n",
       " 'update_every': 4,\n",
       " 'epsilon_start': 1.0,\n",
       " 'epsilon_end': 0.01,\n",
       " 'epsilon_decay': 0.99995,\n",
       " 'model_dir': '../models/DQN.pt'}"
      ]
     },
     "execution_count": 20,
     "metadata": {},
     "output_type": "execute_result"
    }
   ],
   "source": [
    "params = AgentConfig(\n",
    "    state_size=len(sample_state),\n",
    "    action_size=action_size,\n",
    "    seed=seed,\n",
    "    prioritized_memory=False,\n",
    "    model_dir=\"../models/DQN.pt\"\n",
    ")\n",
    "\n",
    "params.dict()"
   ]
  },
  {
   "cell_type": "markdown",
   "metadata": {},
   "source": [
    "### 4.1 Agent (Replay Memory) - Training"
   ]
  },
  {
   "cell_type": "code",
   "execution_count": 21,
   "metadata": {},
   "outputs": [
    {
     "name": "stdout",
     "output_type": "stream",
     "text": [
      "Episode 100\tAvg Score: 101.00\tEpsilon: 0.60\tAvg. MSE Loss: 0.00\n",
      "Episode 200\tAvg Score: 101.00\tEpsilon: 0.36\tAvg. MSE Loss: 0.00\n",
      "Episode 300\tAvg Score: 101.00\tEpsilon: 0.22\tAvg. MSE Loss: 0.00\n",
      "Episode 400\tAvg Score: 100.50\tEpsilon: 0.13\tAvg. MSE Loss: 0.00\n",
      "Episode 500\tAvg Score: 94.85\tEpsilon: 0.08\tAvg. MSE Loss: 0.00\n",
      "Episode 600\tAvg Score: 95.00\tEpsilon: 0.05\tAvg. MSE Loss: 0.00\n",
      "Episode 700\tAvg Score: 100.22\tEpsilon: 0.03\tAvg. MSE Loss: 0.00\n",
      "Episode 800\tAvg Score: 99.76\tEpsilon: 0.02\tAvg. MSE Loss: 0.00\n",
      "Episode 900\tAvg Score: 100.31\tEpsilon: 0.01\tAvg. MSE Loss: 0.00\n",
      "Episode 1000\tAvg Score: 101.13\tEpsilon: 0.01\tAvg. MSE Loss: 0.00\n",
      "Episode 1100\tAvg Score: 101.00\tEpsilon: 0.01\tAvg. MSE Loss: 0.00\n",
      "Episode 1200\tAvg Score: 101.00\tEpsilon: 0.01\tAvg. MSE Loss: 0.00\n",
      "Episode 1300\tAvg Score: 101.07\tEpsilon: 0.01\tAvg. MSE Loss: 0.00\n",
      "Episode 1400\tAvg Score: 101.00\tEpsilon: 0.01\tAvg. MSE Loss: 0.00\n",
      "Episode 1500\tAvg Score: 101.00\tEpsilon: 0.01\tAvg. MSE Loss: 0.00\n",
      "Episode 1600\tAvg Score: 101.00\tEpsilon: 0.01\tAvg. MSE Loss: 0.00\n",
      "Episode 1700\tAvg Score: 101.00\tEpsilon: 0.01\tAvg. MSE Loss: 0.00\n",
      "Episode 1800\tAvg Score: 101.00\tEpsilon: 0.01\tAvg. MSE Loss: 0.00\n",
      "Episode 1900\tAvg Score: 101.00\tEpsilon: 0.01\tAvg. MSE Loss: 0.00\n",
      "Episode 2000\tAvg Score: 101.00\tEpsilon: 0.01\tAvg. MSE Loss: 0.00\n",
      "Episode 2100\tAvg Score: 101.00\tEpsilon: 0.01\tAvg. MSE Loss: 0.00\n",
      "Episode 2200\tAvg Score: 100.31\tEpsilon: 0.01\tAvg. MSE Loss: 0.00\n",
      "Episode 2300\tAvg Score: 101.00\tEpsilon: 0.01\tAvg. MSE Loss: 0.00\n",
      "Episode 2400\tAvg Score: 101.07\tEpsilon: 0.01\tAvg. MSE Loss: 0.00\n",
      "Episode 2500\tAvg Score: 101.00\tEpsilon: 0.01\tAvg. MSE Loss: 0.00\n",
      "Episode 2600\tAvg Score: 101.00\tEpsilon: 0.01\tAvg. MSE Loss: 0.00\n",
      "Episode 2700\tAvg Score: 101.03\tEpsilon: 0.01\tAvg. MSE Loss: 0.00\n",
      "Episode 2800\tAvg Score: 101.13\tEpsilon: 0.01\tAvg. MSE Loss: 0.00\n",
      "Episode 2900\tAvg Score: 101.11\tEpsilon: 0.01\tAvg. MSE Loss: 0.00\n",
      "Episode 3000\tAvg Score: 101.25\tEpsilon: 0.01\tAvg. MSE Loss: 0.00\n",
      "Wall time: 16min 28s\n"
     ]
    },
    {
     "data": {
      "text/plain": [
       "True"
      ]
     },
     "execution_count": 21,
     "metadata": {},
     "output_type": "execute_result"
    }
   ],
   "source": [
    "%%time\n",
    "\n",
    "agent = Agent(**params.dict())\n",
    "\n",
    "# Add our custom prep_state function to the agent\n",
    "agent.prep_state = custom_prep_state\n",
    "\n",
    "trainer = Trainer(agent, env, n_episodes=3000, early_stop=130, verbose=True)\n",
    "trainer.run(logs_callback=agent.logs)"
   ]
  },
  {
   "cell_type": "markdown",
   "metadata": {},
   "source": [
    "### 4.2 Agent (Replay Memory) - Scores"
   ]
  },
  {
   "cell_type": "code",
   "execution_count": 7,
   "metadata": {},
   "outputs": [
    {
     "data": {
      "image/png": "[encoded data removed]",
      "text/plain": [
       "<Figure size 432x288 with 1 Axes>"
      ]
     },
     "metadata": {
      "needs_background": "light"
     },
     "output_type": "display_data"
    }
   ],
   "source": [
    "fig = plt.figure()\n",
    "ax = fig.add_subplot(111)\n",
    "plt.plot(np.arange(len(trainer.scores)), trainer.scores)\n",
    "plt.ylabel(\"Average Score\")\n",
    "plt.xlabel(\"Episode #\")\n",
    "plt.show()"
   ]
  },
  {
   "cell_type": "markdown",
   "metadata": {},
   "source": [
    "### 4.3 Agent (Replay Memory) - Losses"
   ]
  },
  {
   "cell_type": "code",
   "execution_count": 8,
   "metadata": {},
   "outputs": [
    {
     "data": {
      "image/png": "[encoded data removed]",
      "text/plain": [
       "<Figure size 432x288 with 1 Axes>"
      ]
     },
     "metadata": {
      "needs_background": "light"
     },
     "output_type": "display_data"
    }
   ],
   "source": [
    "plt.plot(agent.losses)\n",
    "plt.title(\"Losses\")\n",
    "plt.show()"
   ]
  },
  {
   "cell_type": "markdown",
   "metadata": {},
   "source": [
    "### 4.2 Agent (Prioritized Memory) - Training"
   ]
  },
  {
   "cell_type": "code",
   "execution_count": null,
   "metadata": {},
   "outputs": [],
   "source": [
    "%%time\n",
    "\n",
    "params.prioritized_memory = True\n",
    "\n",
    "agent = Agent(**params.dict())\n",
    "\n",
    "# Add our custom prep_state function to the agent\n",
    "agent.prep_state = custom_prep_state\n",
    "\n",
    "trainer = Trainer(agent, env, n_episodes=1000, early_stop=200, verbose=True)\n",
    "trainer.run(logs_callback=agent.logs)\n",
    "\n",
    "print(f\"Episode: {trainer.last_episode} - Score: {trainer.best_score}\")"
   ]
  },
  {
   "cell_type": "markdown",
   "metadata": {},
   "source": [
    "### 4.2 Agent (Prioritized Memory) - Scores"
   ]
  },
  {
   "cell_type": "code",
   "execution_count": null,
   "metadata": {},
   "outputs": [],
   "source": [
    "fig = plt.figure()\n",
    "ax = fig.add_subplot(111)\n",
    "plt.plot(np.arange(len(trainer.scores)), trainer.scores)\n",
    "plt.ylabel(\"Average Score\")\n",
    "plt.xlabel(\"Episode #\")\n",
    "plt.show()"
   ]
  },
  {
   "cell_type": "markdown",
   "metadata": {},
   "source": [
    "### 4.2 Agent (Prioritized Memory) - Losses"
   ]
  },
  {
   "cell_type": "code",
   "execution_count": null,
   "metadata": {},
   "outputs": [],
   "source": [
    "plt.plot(agent.losses)\n",
    "plt.title(\"Losses\")\n",
    "plt.show()"
   ]
  },
  {
   "cell_type": "markdown",
   "metadata": {},
   "source": [
    "## 5. Save network weights"
   ]
  },
  {
   "cell_type": "code",
   "execution_count": 9,
   "metadata": {},
   "outputs": [],
   "source": [
    "agent.save_model(params.model_dir)"
   ]
  },
  {
   "cell_type": "markdown",
   "metadata": {},
   "source": [
    "## 6. Load network weights"
   ]
  },
  {
   "cell_type": "code",
   "execution_count": 10,
   "metadata": {},
   "outputs": [],
   "source": [
    "del agent\n",
    "\n",
    "agent = Agent(**params.dict())\n",
    "agent.prep_state = custom_prep_state\n",
    "\n",
    "agent.load_model(params.model_dir)"
   ]
  },
  {
   "cell_type": "markdown",
   "metadata": {},
   "source": [
    "## 7. Test the agent"
   ]
  },
  {
   "cell_type": "code",
   "execution_count": 15,
   "metadata": {},
   "outputs": [
    {
     "name": "stdout",
     "output_type": "stream",
     "text": [
      "Score: 101.00\n"
     ]
    }
   ],
   "source": [
    "env = flappy_bird_gym.make(\"FlappyBird-rgb-v0\")\n",
    "env.seed(seed)\n",
    "\n",
    "play_env(agent, env, fps=30, render=True)"
   ]
  },
  {
   "cell_type": "markdown",
   "metadata": {},
   "source": [
    "## 8. Conclusions\n",
    "\n",
    "Pending"
   ]
  }
 ],
 "metadata": {
  "interpreter": {
   "hash": "b3ba2566441a7c06988d0923437866b63cedc61552a5af99d1f4fb67d367b25f"
  },
  "kernelspec": {
   "display_name": "Python 3.8.8 64-bit ('base': conda)",
   "name": "python3"
  },
  "language_info": {
   "codemirror_mode": {
    "name": "ipython",
    "version": 3
   },
   "file_extension": ".py",
   "mimetype": "text/x-python",
   "name": "python",
   "nbconvert_exporter": "python",
   "pygments_lexer": "ipython3",
   "version": "3.8.8"
  }
 },
 "nbformat": 4,
 "nbformat_minor": 4
}
