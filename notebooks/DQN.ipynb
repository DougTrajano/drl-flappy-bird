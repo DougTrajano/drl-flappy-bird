{
 "cells": [
  {
   "cell_type": "markdown",
   "metadata": {},
   "source": [
    "# Flappy Bird - Deep Q-Network\n",
    "\n",
    "In this notebook, we will implement a **Deep Q-Network (DQN)** for the Flappy Bird game.\n",
    "\n",
    "The **Deep Q-Network (DQN) algorithm** is a variant of the Q-Learning that uses a neural network to approximate the Q-function. In 2013, DeepMind proposed this algorithm as a way to solve Atari games with a high level of efficiency.\n",
    "\n",
    "Two different memory approaches are used:\n",
    "\n",
    "- **Experience Replay (ER)**: The most common approach, where the most recent experiences are stored in a replay memory.\n",
    "- **Prioritized Experience Replay (PER)**: The approach where experiences are stored in a replay memory and the importance of each experience is stored in a priority queue.\n",
    "\n",
    "## Index\n",
    "\n",
    "- [1. Initial Setup](#1.-Initial-Setup)\n",
    "- [2. Check the Gym environment](#2-check-the-gym-environment)\n",
    "- [3. Define custom functions](#3-define-custom-functions)\n",
    "- [4. Training the RL agent](#4-training-the-rl-agent)\n",
    "  - [4.1 Agent (Replay Memory) - Training](#4-1-agent-replay-memory-training)\n",
    "  - [4.1 Agent (Replay Memory) - Scores](#4-1-agent-replay-memory-scores)\n",
    "  - [4.1 Agent (Replay Memory) - Loss](#4-1-agent-replay-memory-loss)\n",
    "  - [4.2 Agent (Prioritized Memory) - Training](#4-2-agent-prioritized-memory-training)\n",
    "  - [4.2 Agent (Prioritized Memory) - Scores](#4-2-agent-prioritized-memory-scores)\n",
    "  - [4.2 Agent (Prioritized Memory) - Loss](#4-2-agent-prioritized-memory-loss)\n",
    "- [5. Save agent](#5-save-agent)\n",
    "- [6. Load agent](#6-load-agent)\n",
    "- [7. Test trained agent](#7-test-trained-agent)\n",
    "- [8. Conclusions](#8-conclusions)\n",
    "\n",
    "## References\n",
    "\n",
    "- [[1312.5602] Playing Atari with Deep Reinforcement Learning](https://arxiv.org/abs/1312.5602)\n",
    "- [[2007.06700] Revisiting Fundamentals of Experience Replay](https://arxiv.org/abs/2007.06700)\n",
    "- [[1511.05952] Prioritized Experience Replay](https://arxiv.org/abs/1511.05952)"
   ]
  },
  {
   "cell_type": "markdown",
   "metadata": {},
   "source": [
    "## 1. Initial Setup"
   ]
  },
  {
   "cell_type": "markdown",
   "metadata": {},
   "source": [
    "Add project root directory to the path."
   ]
  },
  {
   "cell_type": "code",
   "execution_count": 2,
   "metadata": {},
   "outputs": [],
   "source": [
    "import sys\n",
    "from pathlib import Path\n",
    "\n",
    "if str(Path(\".\").absolute().parent) not in sys.path:\n",
    "    sys.path.append(str(Path(\".\").absolute().parent))"
   ]
  },
  {
   "cell_type": "markdown",
   "metadata": {},
   "source": [
    "Imports modules"
   ]
  },
  {
   "cell_type": "code",
   "execution_count": 3,
   "metadata": {},
   "outputs": [],
   "source": [
    "import numpy as np\n",
    "import flappy_bird_gym\n",
    "import matplotlib.pyplot as plt\n",
    "\n",
    "from src.trainer import Trainer\n",
    "from src.utils import play_env, aggregate_list\n",
    "from src.dqn.agent import Agent\n",
    "from src.dqn.config import AgentConfig\n",
    "\n",
    "seed = 1993"
   ]
  },
  {
   "cell_type": "markdown",
   "metadata": {},
   "source": [
    "## 2. Check the Gym environment\n",
    "\n",
    "Before we start, we need to check how the environment works. For this, we will check the action space and observation space."
   ]
  },
  {
   "cell_type": "code",
   "execution_count": 4,
   "metadata": {},
   "outputs": [
    {
     "name": "stdout",
     "output_type": "stream",
     "text": [
      "Number of actions: 2\n",
      "Sample state shape: (2,)\n",
      "Sample state: [ 1.65625   -0.0078125]\n"
     ]
    }
   ],
   "source": [
    "env = flappy_bird_gym.make(\"FlappyBird-v0\")\n",
    "\n",
    "env.seed(seed)\n",
    "\n",
    "action_size = env.action_space.n\n",
    "state_size = env.observation_space.shape[0]\n",
    "\n",
    "print(f\"Number of actions: {action_size}\")\n",
    "print(f\"Sample state shape: {env.observation_space.shape}\")\n",
    "print(f\"Sample state: {env.reset()}\")"
   ]
  },
  {
   "cell_type": "markdown",
   "metadata": {},
   "source": [
    "## 3. Define custom functions\n",
    "\n",
    "In the next cell, we define a `custom_prep_state()` function that can be used to preprocess the state of the game.\n",
    "\n",
    "We will replace the original `prep_state()` (that does nothing) with this function."
   ]
  },
  {
   "cell_type": "code",
   "execution_count": 5,
   "metadata": {},
   "outputs": [
    {
     "name": "stdout",
     "output_type": "stream",
     "text": [
      "Shape of state: (2,)\n"
     ]
    },
    {
     "data": {
      "text/plain": [
       "array([ 1.65625   , -0.01171875])"
      ]
     },
     "execution_count": 5,
     "metadata": {},
     "output_type": "execute_result"
    }
   ],
   "source": [
    "def custom_prep_state(state: np.ndarray) -> np.ndarray:\n",
    "    \"\"\"\n",
    "    Custom preprocessing of the state.\n",
    "\n",
    "    This function replaces the default preprocessing of the state of the agent (prep_state())\n",
    "\n",
    "    Args:\n",
    "    - state: State to preprocess.\n",
    "\n",
    "    Returns:\n",
    "    - Preprocessed state.\n",
    "    \"\"\"\n",
    "    return state\n",
    "\n",
    "sample_state = custom_prep_state(env.reset())\n",
    "print(f\"Shape of state: {sample_state.shape}\")\n",
    "sample_state"
   ]
  },
  {
   "cell_type": "markdown",
   "metadata": {},
   "source": [
    "## 4. Training the RL agent\n",
    "\n",
    "First, we will instantiate the AgentConfig that defines the hyperparameters of our DQN Agent."
   ]
  },
  {
   "cell_type": "code",
   "execution_count": 6,
   "metadata": {},
   "outputs": [
    {
     "data": {
      "text/plain": [
       "{'state_size': 2,\n",
       " 'action_size': 2,\n",
       " 'seed': 1993,\n",
       " 'nb_hidden': (64, 64),\n",
       " 'learning_rate': 0.0005,\n",
       " 'memory_size': 100000,\n",
       " 'prioritized_memory': False,\n",
       " 'batch_size': 64,\n",
       " 'gamma': 0.99,\n",
       " 'tau': 0.001,\n",
       " 'small_eps': 0.03,\n",
       " 'update_every': 4,\n",
       " 'epsilon_enabled': True,\n",
       " 'epsilon_start': 1.0,\n",
       " 'epsilon_end': 0.01,\n",
       " 'epsilon_decay': 0.99995,\n",
       " 'model_dir': '../models/DQN.pt'}"
      ]
     },
     "execution_count": 6,
     "metadata": {},
     "output_type": "execute_result"
    }
   ],
   "source": [
    "params = AgentConfig(\n",
    "    state_size=len(sample_state),\n",
    "    action_size=action_size,\n",
    "    seed=seed,\n",
    "    prioritized_memory=False,\n",
    "    model_dir=\"../models/DQN.pt\"\n",
    ")\n",
    "\n",
    "params.dict()"
   ]
  },
  {
   "cell_type": "markdown",
   "metadata": {},
   "source": [
    "Now, we will define the trainer parameters."
   ]
  },
  {
   "cell_type": "code",
   "execution_count": 7,
   "metadata": {},
   "outputs": [],
   "source": [
    "trainer_args = {\n",
    "    \"n_episodes\": 10,\n",
    "    \"print_range\": 1000,\n",
    "    \"early_stop\": 120,\n",
    "    \"max_timestep\": None,\n",
    "    \"verbose\": True,\n",
    "}"
   ]
  },
  {
   "cell_type": "markdown",
   "metadata": {},
   "source": [
    "### 4.1 Agent (Replay Memory) - Training"
   ]
  },
  {
   "cell_type": "code",
   "execution_count": 6,
   "metadata": {},
   "outputs": [
    {
     "name": "stdout",
     "output_type": "stream",
     "text": [
      "Episode 1000\tAvg Score: 99.45\tEpsilon: 0.01\tAvg. MSE Loss: 0.00\n",
      "Episode 2000\tAvg Score: 101.01\tEpsilon: 0.01\tAvg. MSE Loss: 0.00\n",
      "Episode 3000\tAvg Score: 101.06\tEpsilon: 0.01\tAvg. MSE Loss: 0.00\n",
      "Episode 4000\tAvg Score: 101.16\tEpsilon: 0.01\tAvg. MSE Loss: 0.00\n",
      "Episode 5000\tAvg Score: 101.63\tEpsilon: 0.01\tAvg. MSE Loss: 0.00\n",
      "Episode 6000\tAvg Score: 101.55\tEpsilon: 0.01\tAvg. MSE Loss: 0.00\n",
      "Episode 7000\tAvg Score: 102.48\tEpsilon: 0.01\tAvg. MSE Loss: 0.00\n",
      "Episode 8000\tAvg Score: 101.92\tEpsilon: 0.01\tAvg. MSE Loss: 0.00\n",
      "Episode 9000\tAvg Score: 101.87\tEpsilon: 0.01\tAvg. MSE Loss: 0.00\n",
      "Episode 10000\tAvg Score: 102.87\tEpsilon: 0.01\tAvg. MSE Loss: 0.00\n",
      "Episode 11000\tAvg Score: 103.12\tEpsilon: 0.01\tAvg. MSE Loss: 0.00\n",
      "Episode 12000\tAvg Score: 102.84\tEpsilon: 0.01\tAvg. MSE Loss: 1.00\n",
      "Episode 13000\tAvg Score: 103.75\tEpsilon: 0.01\tAvg. MSE Loss: 0.00\n",
      "Episode 14000\tAvg Score: 103.69\tEpsilon: 0.01\tAvg. MSE Loss: 0.00\n",
      "Episode 15000\tAvg Score: 102.30\tEpsilon: 0.01\tAvg. MSE Loss: 1.00\n",
      "Episode 16000\tAvg Score: 102.56\tEpsilon: 0.01\tAvg. MSE Loss: 1.00\n",
      "Episode 17000\tAvg Score: 102.13\tEpsilon: 0.01\tAvg. MSE Loss: 0.00\n",
      "Episode 18000\tAvg Score: 101.59\tEpsilon: 0.01\tAvg. MSE Loss: 0.00\n",
      "Episode 19000\tAvg Score: 103.03\tEpsilon: 0.01\tAvg. MSE Loss: 0.00\n",
      "Episode 20000\tAvg Score: 103.15\tEpsilon: 0.01\tAvg. MSE Loss: 0.00\n",
      "Episode 21000\tAvg Score: 103.48\tEpsilon: 0.01\tAvg. MSE Loss: 0.00\n",
      "Episode 22000\tAvg Score: 102.09\tEpsilon: 0.01\tAvg. MSE Loss: 0.00\n",
      "Episode 23000\tAvg Score: 102.37\tEpsilon: 0.01\tAvg. MSE Loss: 0.00\n",
      "Episode 24000\tAvg Score: 103.56\tEpsilon: 0.01\tAvg. MSE Loss: 0.00\n",
      "Episode 25000\tAvg Score: 103.17\tEpsilon: 0.01\tAvg. MSE Loss: 0.00\n",
      "Episode 26000\tAvg Score: 102.73\tEpsilon: 0.01\tAvg. MSE Loss: 2.00\n",
      "Episode 27000\tAvg Score: 106.12\tEpsilon: 0.01\tAvg. MSE Loss: 0.00\n",
      "Episode 28000\tAvg Score: 104.17\tEpsilon: 0.01\tAvg. MSE Loss: 0.00\n",
      "Episode 29000\tAvg Score: 102.57\tEpsilon: 0.01\tAvg. MSE Loss: 0.00\n",
      "Episode 30000\tAvg Score: 103.52\tEpsilon: 0.01\tAvg. MSE Loss: 0.00\n",
      "Episode 31000\tAvg Score: 101.51\tEpsilon: 0.01\tAvg. MSE Loss: 0.00\n",
      "Episode 32000\tAvg Score: 104.35\tEpsilon: 0.01\tAvg. MSE Loss: 0.00\n",
      "Episode 33000\tAvg Score: 104.98\tEpsilon: 0.01\tAvg. MSE Loss: 0.00\n",
      "Episode 34000\tAvg Score: 107.56\tEpsilon: 0.01\tAvg. MSE Loss: 0.00\n",
      "Episode 35000\tAvg Score: 108.17\tEpsilon: 0.01\tAvg. MSE Loss: 0.00\n",
      "Episode 36000\tAvg Score: 107.45\tEpsilon: 0.01\tAvg. MSE Loss: 0.00\n",
      "Episode 37000\tAvg Score: 106.94\tEpsilon: 0.01\tAvg. MSE Loss: 0.00\n",
      "Episode 38000\tAvg Score: 107.37\tEpsilon: 0.01\tAvg. MSE Loss: 1.00\n",
      "Episode 39000\tAvg Score: 109.25\tEpsilon: 0.01\tAvg. MSE Loss: 0.00\n",
      "Episode 40000\tAvg Score: 107.17\tEpsilon: 0.01\tAvg. MSE Loss: 0.00\n",
      "Episode 41000\tAvg Score: 107.78\tEpsilon: 0.01\tAvg. MSE Loss: 0.00\n",
      "Episode 42000\tAvg Score: 111.08\tEpsilon: 0.01\tAvg. MSE Loss: 0.00\n",
      "Episode 43000\tAvg Score: 116.23\tEpsilon: 0.01\tAvg. MSE Loss: 1.00\n",
      "Episode 44000\tAvg Score: 112.58\tEpsilon: 0.01\tAvg. MSE Loss: 0.00\n",
      "Episode 45000\tAvg Score: 108.48\tEpsilon: 0.01\tAvg. MSE Loss: 1.00\n",
      "Episode 46000\tAvg Score: 109.58\tEpsilon: 0.01\tAvg. MSE Loss: 1.00\n",
      "Episode 47000\tAvg Score: 110.51\tEpsilon: 0.01\tAvg. MSE Loss: 1.00\n",
      "Episode 48000\tAvg Score: 106.07\tEpsilon: 0.01\tAvg. MSE Loss: 0.00\n",
      "Episode 49000\tAvg Score: 101.16\tEpsilon: 0.01\tAvg. MSE Loss: 0.00\n",
      "Episode 50000\tAvg Score: 103.09\tEpsilon: 0.01\tAvg. MSE Loss: 0.00\n",
      "Episode 51000\tAvg Score: 102.19\tEpsilon: 0.01\tAvg. MSE Loss: 0.00\n",
      "Episode 52000\tAvg Score: 101.95\tEpsilon: 0.01\tAvg. MSE Loss: 0.00\n",
      "Episode 53000\tAvg Score: 101.58\tEpsilon: 0.01\tAvg. MSE Loss: 0.00\n",
      "Episode 54000\tAvg Score: 102.74\tEpsilon: 0.01\tAvg. MSE Loss: 0.00\n",
      "Episode 55000\tAvg Score: 102.52\tEpsilon: 0.01\tAvg. MSE Loss: 0.00\n",
      "Episode 56000\tAvg Score: 102.32\tEpsilon: 0.01\tAvg. MSE Loss: 0.00\n",
      "Episode 57000\tAvg Score: 102.47\tEpsilon: 0.01\tAvg. MSE Loss: 0.00\n",
      "Episode 58000\tAvg Score: 103.32\tEpsilon: 0.01\tAvg. MSE Loss: 0.00\n",
      "Episode 59000\tAvg Score: 103.11\tEpsilon: 0.01\tAvg. MSE Loss: 0.00\n",
      "Episode 60000\tAvg Score: 103.39\tEpsilon: 0.01\tAvg. MSE Loss: 0.00\n",
      "Wall time: 1h 10min 12s\n"
     ]
    },
    {
     "data": {
      "text/plain": [
       "True"
      ]
     },
     "execution_count": 6,
     "metadata": {},
     "output_type": "execute_result"
    }
   ],
   "source": [
    "%%time\n",
    "\n",
    "agent = Agent(**params.dict())\n",
    "\n",
    "# Add our custom prep_state function to the agent\n",
    "agent.prep_state = custom_prep_state\n",
    "\n",
    "trainer = Trainer(agent=agent, env=env, **trainer_args)\n",
    "trainer.run(logs_callback=agent.logs, save_best_model=True, output_path=\"../models/DQN_ER_best_score.pt\")"
   ]
  },
  {
   "cell_type": "markdown",
   "metadata": {},
   "source": [
    "### 4.2 Agent (Replay Memory) - Scores"
   ]
  },
  {
   "cell_type": "code",
   "execution_count": 7,
   "metadata": {},
   "outputs": [
    {
     "name": "stdout",
     "output_type": "stream",
     "text": [
      "Best score: 116.228 - (episode: 43000)\n",
      "Last score: 103.388 - (episode: 60000)\n"
     ]
    }
   ],
   "source": [
    "print(f\"Best score: {trainer.best_score} - (episode: {trainer.best_episode})\")\n",
    "print(f\"Last score: {trainer.last_score} - (episode: {trainer.last_episode})\")"
   ]
  },
  {
   "cell_type": "code",
   "execution_count": 9,
   "metadata": {},
   "outputs": [
    {
     "data": {
      "image/png": "[encoded data removed]",
      "text/plain": [
       "<Figure size 432x288 with 1 Axes>"
      ]
     },
     "metadata": {
      "needs_background": "light"
     },
     "output_type": "display_data"
    }
   ],
   "source": [
    "avg_scores = aggregate_list(trainer.scores, trainer_args[\"print_range\"])\n",
    "x = [i*trainer_args[\"print_range\"] for i in range(len(avg_scores))]\n",
    "\n",
    "fig = plt.figure()\n",
    "ax = fig.add_subplot(111)\n",
    "plt.plot(x, avg_scores)\n",
    "plt.ylabel(\"Average Score\")\n",
    "plt.xlabel(\"Episode #\")\n",
    "plt.show()"
   ]
  },
  {
   "cell_type": "markdown",
   "metadata": {},
   "source": [
    "### 4.3 Agent (Replay Memory) - Loss"
   ]
  },
  {
   "cell_type": "code",
   "execution_count": 10,
   "metadata": {},
   "outputs": [
    {
     "data": {
      "image/png": "[encoded data removed]",
      "text/plain": [
       "<Figure size 432x288 with 1 Axes>"
      ]
     },
     "metadata": {
      "needs_background": "light"
     },
     "output_type": "display_data"
    }
   ],
   "source": [
    "plt.plot(agent.losses)\n",
    "plt.title(\"MSE Loss - Replay Memory\")\n",
    "plt.show()"
   ]
  },
  {
   "cell_type": "markdown",
   "metadata": {},
   "source": [
    "### 4.2 Agent (Prioritized Memory) - Training"
   ]
  },
  {
   "cell_type": "code",
   "execution_count": 10,
   "metadata": {},
   "outputs": [
    {
     "name": "stderr",
     "output_type": "stream",
     "text": [
      "C:\\ProgramData\\Anaconda3\\lib\\site-packages\\torch\\nn\\_reduction.py:42: UserWarning: size_average and reduce args will be deprecated, please use reduction='none' instead.\n",
      "  warnings.warn(warning.format(ret))\n"
     ]
    },
    {
     "name": "stdout",
     "output_type": "stream",
     "text": [
      "Episode 1000\tAvg Score: 100.63\tEpsilon: 0.01\tAvg. MSE Loss: 0.00\n",
      "Episode 2000\tAvg Score: 100.86\tEpsilon: 0.01\tAvg. MSE Loss: 0.00\n",
      "Episode 3000\tAvg Score: 101.00\tEpsilon: 0.01\tAvg. MSE Loss: 0.00\n",
      "Episode 4000\tAvg Score: 101.00\tEpsilon: 0.01\tAvg. MSE Loss: 0.00\n",
      "Episode 5000\tAvg Score: 101.01\tEpsilon: 0.01\tAvg. MSE Loss: 0.00\n",
      "Episode 6000\tAvg Score: 101.22\tEpsilon: 0.01\tAvg. MSE Loss: 0.00\n",
      "Episode 7000\tAvg Score: 101.50\tEpsilon: 0.01\tAvg. MSE Loss: 0.00\n",
      "Episode 8000\tAvg Score: 92.26\tEpsilon: 0.01\tAvg. MSE Loss: 1.00\n",
      "Episode 9000\tAvg Score: 101.46\tEpsilon: 0.01\tAvg. MSE Loss: 0.00\n",
      "Episode 10000\tAvg Score: 101.66\tEpsilon: 0.01\tAvg. MSE Loss: 0.00\n",
      "Episode 11000\tAvg Score: 101.14\tEpsilon: 0.01\tAvg. MSE Loss: 0.00\n",
      "Episode 11877\tAvg Score: 101.55\tEpsilon: 0.01\tAvg. MSE Loss: 0.00"
     ]
    }
   ],
   "source": [
    "%%time\n",
    "\n",
    "params.prioritized_memory = True\n",
    "params.memory_size = 10000\n",
    "\n",
    "agent = Agent(**params.dict())\n",
    "\n",
    "# Add our custom prep_state function to the agent\n",
    "agent.prep_state = custom_prep_state\n",
    "\n",
    "trainer = Trainer(agent=agent, env=env, **trainer_args)\n",
    "trainer.run(logs_callback=agent.logs, save_best_model=True, output_path=\"../models/DQN_PER_best_score.pt\")\n",
    "\n",
    "print(f\"Episode: {trainer.last_episode} - Score: {trainer.best_score}\")"
   ]
  },
  {
   "cell_type": "markdown",
   "metadata": {},
   "source": [
    "### 4.2 Agent (Prioritized Memory) - Scores"
   ]
  },
  {
   "cell_type": "code",
   "execution_count": null,
   "metadata": {},
   "outputs": [],
   "source": [
    "avg_scores = aggregate_list(trainer.scores, trainer_args[\"print_range\"])\n",
    "x = [i*trainer_args[\"print_range\"] for i in range(len(avg_scores))]\n",
    "\n",
    "fig = plt.figure()\n",
    "ax = fig.add_subplot(111)\n",
    "plt.plot(x, avg_scores)\n",
    "plt.ylabel(\"Average Score\")\n",
    "plt.xlabel(\"Episode #\")\n",
    "plt.show()"
   ]
  },
  {
   "cell_type": "markdown",
   "metadata": {},
   "source": [
    "### 4.2 Agent (Prioritized Memory) - Loss"
   ]
  },
  {
   "cell_type": "code",
   "execution_count": null,
   "metadata": {},
   "outputs": [],
   "source": [
    "plt.plot(agent.losses)\n",
    "plt.title(\"MSE Loss - Prioritized Memory\")\n",
    "plt.show()"
   ]
  },
  {
   "cell_type": "markdown",
   "metadata": {},
   "source": [
    "## 5. Save agent"
   ]
  },
  {
   "cell_type": "code",
   "execution_count": 13,
   "metadata": {},
   "outputs": [],
   "source": [
    "agent.save_model(params.model_dir)"
   ]
  },
  {
   "cell_type": "markdown",
   "metadata": {},
   "source": [
    "## 6. Load agent"
   ]
  },
  {
   "cell_type": "code",
   "execution_count": null,
   "metadata": {},
   "outputs": [],
   "source": [
    "del agent"
   ]
  },
  {
   "cell_type": "code",
   "execution_count": 8,
   "metadata": {},
   "outputs": [],
   "source": [
    "agent = Agent(**params.dict())\n",
    "agent.prep_state = custom_prep_state\n",
    "agent.epsilon_enabled = False\n",
    "\n",
    "agent.load_model(params.model_dir)"
   ]
  },
  {
   "cell_type": "markdown",
   "metadata": {},
   "source": [
    "## 7. Test trained agent"
   ]
  },
  {
   "cell_type": "code",
   "execution_count": 9,
   "metadata": {},
   "outputs": [
    {
     "name": "stdout",
     "output_type": "stream",
     "text": [
      "Score: 150.00\n",
      "Score: 114.00\n",
      "Score: 137.00\n",
      "Score: 137.00\n",
      "Score: 119.00\n",
      "Score: 121.00\n",
      "Score: 120.00\n",
      "Score: 109.00\n",
      "Score: 151.00\n",
      "Score: 114.00\n"
     ]
    }
   ],
   "source": [
    "env = flappy_bird_gym.make(\"FlappyBird-v0\")\n",
    "env.seed(seed)\n",
    "\n",
    "for i in range(10):\n",
    "    play_env(agent, env, fps=30, render=True)"
   ]
  },
  {
   "cell_type": "markdown",
   "metadata": {},
   "source": [
    "## 8. Conclusions\n",
    "\n",
    "The Deep Q-Network (DQN) algorithm is a powerful algorithm that can learn playing the Flappy Bird game.\n",
    "\n",
    "We achieved reasonable results with the DQM algorithm after training the agent for 60,000 episodes.\n",
    "\n",
    "Unfortunately, the prioritized replay memory (PER) takes a lot of time to train and we are not able to evaluate the DQN Agent with it."
   ]
  }
 ],
 "metadata": {
  "interpreter": {
   "hash": "b3ba2566441a7c06988d0923437866b63cedc61552a5af99d1f4fb67d367b25f"
  },
  "kernelspec": {
   "display_name": "Python 3.8.8 64-bit ('base': conda)",
   "name": "python3"
  },
  "language_info": {
   "codemirror_mode": {
    "name": "ipython",
    "version": 3
   },
   "file_extension": ".py",
   "mimetype": "text/x-python",
   "name": "python",
   "nbconvert_exporter": "python",
   "pygments_lexer": "ipython3",
   "version": "3.8.8"
  }
 },
 "nbformat": 4,
 "nbformat_minor": 4
}
