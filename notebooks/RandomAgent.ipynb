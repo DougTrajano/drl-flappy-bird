{
 "cells": [
  {
   "cell_type": "markdown",
   "metadata": {},
   "source": [
    "# FlappyBird - Random Agent\n",
    "\n",
    "In this notebook, we will implement a random agent that will play FlappyBird.\n",
    "\n",
    "## Index\n",
    "\n",
    "- [1. Initial Setup](#1.-Initial-Setup)\n",
    "- [2. Check the Gym environment](#2.-Check-the-Gym-environment)\n",
    "- [3. Define custom functions](#3.-Define-custom-functions)\n",
    "- [4. Training the RL agent](#4.-Training-the-RL-agent)\n",
    "- [5. Play the game](#5.-Play-the-game)"
   ]
  },
  {
   "cell_type": "markdown",
   "metadata": {},
   "source": [
    "## 1. Initial Setup"
   ]
  },
  {
   "cell_type": "markdown",
   "metadata": {},
   "source": [
    "Add project root directory to the path."
   ]
  },
  {
   "cell_type": "code",
   "execution_count": 4,
   "metadata": {},
   "outputs": [],
   "source": [
    "import sys\n",
    "from pathlib import Path\n",
    "\n",
    "if str(Path(\".\").absolute().parent) not in sys.path:\n",
    "    sys.path.append(str(Path(\".\").absolute().parent))"
   ]
  },
  {
   "cell_type": "markdown",
   "metadata": {},
   "source": [
    "Imports modules"
   ]
  },
  {
   "cell_type": "code",
   "execution_count": 8,
   "metadata": {},
   "outputs": [],
   "source": [
    "import numpy as np\n",
    "import flappy_bird_gym\n",
    "\n",
    "from src.base import Agent\n",
    "from src.utils import play_env"
   ]
  },
  {
   "cell_type": "markdown",
   "metadata": {},
   "source": [
    "## 2. Check the Gym environment\n",
    "\n",
    "Before we start, we need to check how the environment works. For this, we will check the action space and observation space."
   ]
  },
  {
   "cell_type": "code",
   "execution_count": 6,
   "metadata": {},
   "outputs": [
    {
     "name": "stdout",
     "output_type": "stream",
     "text": [
      "Number of actions: 2\n",
      "Sample state shape: (288, 512, 3)\n",
      "Sample state: [[[200 200 200]\n",
      "  [200 200 200]\n",
      "  [200 200 200]\n",
      "  ...\n",
      "  [222 216 149]\n",
      "  [222 216 149]\n",
      "  [222 216 149]]\n",
      "\n",
      " [[200 200 200]\n",
      "  [200 200 200]\n",
      "  [200 200 200]\n",
      "  ...\n",
      "  [222 216 149]\n",
      "  [222 216 149]\n",
      "  [222 216 149]]\n",
      "\n",
      " [[200 200 200]\n",
      "  [200 200 200]\n",
      "  [200 200 200]\n",
      "  ...\n",
      "  [222 216 149]\n",
      "  [222 216 149]\n",
      "  [222 216 149]]\n",
      "\n",
      " ...\n",
      "\n",
      " [[200 200 200]\n",
      "  [200 200 200]\n",
      "  [200 200 200]\n",
      "  ...\n",
      "  [222 216 149]\n",
      "  [222 216 149]\n",
      "  [222 216 149]]\n",
      "\n",
      " [[200 200 200]\n",
      "  [200 200 200]\n",
      "  [200 200 200]\n",
      "  ...\n",
      "  [222 216 149]\n",
      "  [222 216 149]\n",
      "  [222 216 149]]\n",
      "\n",
      " [[200 200 200]\n",
      "  [200 200 200]\n",
      "  [200 200 200]\n",
      "  ...\n",
      "  [222 216 149]\n",
      "  [222 216 149]\n",
      "  [222 216 149]]]\n"
     ]
    }
   ],
   "source": [
    "env = flappy_bird_gym.make(\"FlappyBird-rgb-v0\")\n",
    "\n",
    "action_size = env.action_space.n\n",
    "state_size = env.observation_space.shape[0]\n",
    "\n",
    "print(f\"Number of actions: {action_size}\")\n",
    "print(f\"Sample state shape: {env.reset().shape}\")\n",
    "print(f\"Sample state: {env.reset()}\")"
   ]
  },
  {
   "cell_type": "markdown",
   "metadata": {},
   "source": [
    "## 3. Define custom functions\n",
    "\n",
    "In the next cell, we define a `custom_prep_state()` function that will be used to preprocess the state of the game.\n",
    "\n",
    "We will replace the `prep_state()` function of the agent with this one."
   ]
  },
  {
   "cell_type": "code",
   "execution_count": 9,
   "metadata": {},
   "outputs": [
    {
     "name": "stdout",
     "output_type": "stream",
     "text": [
      "Shape of state: (442368,)\n"
     ]
    },
    {
     "data": {
      "text/plain": [
       "array([200, 200, 200, ..., 222, 216, 149], dtype=uint8)"
      ]
     },
     "execution_count": 9,
     "metadata": {},
     "output_type": "execute_result"
    }
   ],
   "source": [
    "def custom_prep_state(state: np.ndarray) -> np.ndarray:\n",
    "    #return state # No preprocessing\n",
    "    return state.ravel() # Flatten\n",
    "\n",
    "sample_state = custom_prep_state(env.reset())\n",
    "print(f\"Shape of state: {sample_state.shape}\")\n",
    "sample_state"
   ]
  },
  {
   "cell_type": "markdown",
   "metadata": {},
   "source": [
    "## 4. Training the RL agent\n",
    "\n",
    "Firstly, we will instantiate the AgentConfig that defines the hyperparameters of our Dueling DQN Agent."
   ]
  },
  {
   "cell_type": "code",
   "execution_count": 10,
   "metadata": {},
   "outputs": [],
   "source": [
    "agent = Agent(state_size=len(sample_state),\n",
    "              action_size=env.action_space.n, seed=1993)"
   ]
  },
  {
   "cell_type": "markdown",
   "metadata": {},
   "source": [
    "## 5. Play the game"
   ]
  },
  {
   "cell_type": "code",
   "execution_count": 12,
   "metadata": {},
   "outputs": [
    {
     "name": "stdout",
     "output_type": "stream",
     "text": [
      "Score: 101\n"
     ]
    }
   ],
   "source": [
    "play_env(agent, env, render=True)"
   ]
  }
 ],
 "metadata": {
  "interpreter": {
   "hash": "b3ba2566441a7c06988d0923437866b63cedc61552a5af99d1f4fb67d367b25f"
  },
  "kernelspec": {
   "display_name": "Python 3.8.8 64-bit ('base': conda)",
   "name": "python3"
  },
  "language_info": {
   "codemirror_mode": {
    "name": "ipython",
    "version": 3
   },
   "file_extension": ".py",
   "mimetype": "text/x-python",
   "name": "python",
   "nbconvert_exporter": "python",
   "pygments_lexer": "ipython3",
   "version": "3.8.8"
  }
 },
 "nbformat": 4,
 "nbformat_minor": 5
}
