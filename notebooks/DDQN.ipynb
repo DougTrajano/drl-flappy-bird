{
 "cells": [
  {
   "cell_type": "markdown",
   "metadata": {},
   "source": [
    "# Flappy Bird - Dueling Deep Q-Network\n",
    "\n",
    "In this notebook, we will implement a **Dueling Deep Q-Network (DQN)** for the Flappy Bird game.\n",
    "\n",
    "The **Deep Q-Network (DQN) algorithm** is a variant of the Q-Learning that uses a neural network to approximate the Q-function. In 2013, DeepMind proposed this algorithm as a way to solve Atari games with a high level of efficiency.\n",
    "\n",
    "By explicitly separating two estimators, the dueling architecture can learn which states are (or are not) valuable, without having to learn the effect of each action for each state.\n",
    "\n",
    "Two different memory approaches are used:\n",
    "\n",
    "- **Experience Replay (ER)**: The most common approach, where the most recent experiences are stored in a replay memory.\n",
    "- **Prioritized Experience Replay (PER)**: The approach where experiences are stored in a replay memory and the importance of each experience is stored in a priority queue.\n",
    "\n",
    "## Index\n",
    "\n",
    "- [1. Initial Setup](#1.-Initial-Setup)\n",
    "- [2. Check the Gym environment](#2-check-the-gym-environment)\n",
    "- [3. Define custom functions](#3-define-custom-functions)\n",
    "- [4. Training the RL agent](#4-training-the-rl-agent)\n",
    "  - [4.1 Agent (Replay Memory) - Training](#4-1-agent-replay-memory-training)\n",
    "  - [4.1 Agent (Replay Memory) - Scores](#4-1-agent-replay-memory-scores)\n",
    "  - [4.1 Agent (Replay Memory) - Losses](#4-1-agent-replay-memory-losses)\n",
    "  - [4.2 Agent (Prioritized Memory) - Training](#4-2-agent-prioritized-memory-training)\n",
    "  - [4.2 Agent (Prioritized Memory) - Scores](#4-2-agent-prioritized-memory-scores)\n",
    "  - [4.2 Agent (Prioritized Memory) - Losses](#4-2-agent-prioritized-memory-losses)\n",
    "- [5. Save network weights](#5-save-network-weights)\n",
    "- [6. Load network weights](#6-load-network-weights)\n",
    "- [7. Test the agent](#7-test-the-agent)\n",
    "- [8. Conclusions](#8-conclusions)\n",
    "\n",
    "## References\n",
    "\n",
    "- [[1312.5602] Playing Atari with Deep Reinforcement Learning](https://arxiv.org/abs/1312.5602)\n",
    "- [[2007.06700] Revisiting Fundamentals of Experience Replay](https://arxiv.org/abs/2007.06700)\n",
    "- [[1511.05952] Prioritized Experience Replay](https://arxiv.org/abs/1511.05952)"
   ]
  },
  {
   "cell_type": "markdown",
   "metadata": {},
   "source": [
    "## 1. Initial Setup"
   ]
  },
  {
   "cell_type": "markdown",
   "metadata": {},
   "source": [
    "Add project root directory to the path."
   ]
  },
  {
   "cell_type": "code",
   "execution_count": 1,
   "metadata": {},
   "outputs": [],
   "source": [
    "import sys\n",
    "from pathlib import Path\n",
    "\n",
    "if str(Path(\".\").absolute().parent) not in sys.path:\n",
    "    sys.path.append(str(Path(\".\").absolute().parent))"
   ]
  },
  {
   "cell_type": "markdown",
   "metadata": {},
   "source": [
    "Imports modules"
   ]
  },
  {
   "cell_type": "code",
   "execution_count": 10,
   "metadata": {},
   "outputs": [],
   "source": [
    "import numpy as np\n",
    "import flappy_bird_gym\n",
    "import matplotlib.pyplot as plt\n",
    "\n",
    "from src.trainer import Trainer\n",
    "from src.utils import play_env\n",
    "from src.ddqn.agent import Agent\n",
    "from src.ddqn.config import AgentConfig"
   ]
  },
  {
   "cell_type": "markdown",
   "metadata": {},
   "source": [
    "## 2. Check the Gym environment\n",
    "\n",
    "Before we start, we need to check how the environment works. For this, we will check the action space and observation space."
   ]
  },
  {
   "cell_type": "code",
   "execution_count": 13,
   "metadata": {},
   "outputs": [
    {
     "name": "stdout",
     "output_type": "stream",
     "text": [
      "Number of actions: 2\n",
      "Sample state shape: (288, 512, 3)\n",
      "Sample state: [[[200 200 200]\n",
      "  [200 200 200]\n",
      "  [200 200 200]\n",
      "  ...\n",
      "  [222 216 149]\n",
      "  [222 216 149]\n",
      "  [222 216 149]]\n",
      "\n",
      " [[200 200 200]\n",
      "  [200 200 200]\n",
      "  [200 200 200]\n",
      "  ...\n",
      "  [222 216 149]\n",
      "  [222 216 149]\n",
      "  [222 216 149]]\n",
      "\n",
      " [[200 200 200]\n",
      "  [200 200 200]\n",
      "  [200 200 200]\n",
      "  ...\n",
      "  [222 216 149]\n",
      "  [222 216 149]\n",
      "  [222 216 149]]\n",
      "\n",
      " ...\n",
      "\n",
      " [[200 200 200]\n",
      "  [200 200 200]\n",
      "  [200 200 200]\n",
      "  ...\n",
      "  [222 216 149]\n",
      "  [222 216 149]\n",
      "  [222 216 149]]\n",
      "\n",
      " [[200 200 200]\n",
      "  [200 200 200]\n",
      "  [200 200 200]\n",
      "  ...\n",
      "  [222 216 149]\n",
      "  [222 216 149]\n",
      "  [222 216 149]]\n",
      "\n",
      " [[200 200 200]\n",
      "  [200 200 200]\n",
      "  [200 200 200]\n",
      "  ...\n",
      "  [222 216 149]\n",
      "  [222 216 149]\n",
      "  [222 216 149]]]\n"
     ]
    }
   ],
   "source": [
    "env = flappy_bird_gym.make(\"FlappyBird-rgb-v0\")\n",
    "\n",
    "action_size = env.action_space.n\n",
    "state_size = env.observation_space.shape[0]\n",
    "\n",
    "print(f\"Number of actions: {action_size}\")\n",
    "print(f\"Sample state shape: {env.reset().shape}\")\n",
    "print(f\"Sample state: {env.reset()}\")"
   ]
  },
  {
   "cell_type": "markdown",
   "metadata": {},
   "source": [
    "## 3. Define custom functions\n",
    "\n",
    "In the next cell, we define a `custom_prep_state()` function that will be used to preprocess the state of the game.\n",
    "\n",
    "We will replace the `prep_state()` function of the agent with this one."
   ]
  },
  {
   "cell_type": "code",
   "execution_count": 4,
   "metadata": {},
   "outputs": [
    {
     "name": "stdout",
     "output_type": "stream",
     "text": [
      "Shape of state: (442368,)\n"
     ]
    },
    {
     "data": {
      "text/plain": [
       "array([200, 200, 200, ..., 222, 216, 149], dtype=uint8)"
      ]
     },
     "execution_count": 4,
     "metadata": {},
     "output_type": "execute_result"
    }
   ],
   "source": [
    "def custom_prep_state(state: np.ndarray) -> np.ndarray:\n",
    "    #return state # No preprocessing\n",
    "    return state.ravel() # Flatten\n",
    "\n",
    "sample_state = custom_prep_state(env.reset())\n",
    "print(f\"Shape of state: {sample_state.shape}\")\n",
    "sample_state"
   ]
  },
  {
   "cell_type": "markdown",
   "metadata": {},
   "source": [
    "## 4. Training the RL agent\n",
    "\n",
    "Firstly, we will instantiate the AgentConfig that defines the hyperparameters of our Dueling DQN Agent."
   ]
  },
  {
   "cell_type": "code",
   "execution_count": 20,
   "metadata": {},
   "outputs": [
    {
     "data": {
      "text/plain": [
       "{'state_size': 442368,\n",
       " 'action_size': 2,\n",
       " 'seed': 1993,\n",
       " 'nb_hidden': (64, 64),\n",
       " 'learning_rate': 0.0001,\n",
       " 'memory_size': 10000,\n",
       " 'prioritized_memory': False,\n",
       " 'batch_size': 64,\n",
       " 'gamma': 0.99,\n",
       " 'tau': 0.03,\n",
       " 'small_eps': 0.03,\n",
       " 'update_every': 4,\n",
       " 'epsilon_start': 1.0,\n",
       " 'epsilon_end': 0.01,\n",
       " 'epsilon_decay': 0.995,\n",
       " 'model_dir': '../models/DuelingDQN-FlappyBird.pt'}"
      ]
     },
     "execution_count": 20,
     "metadata": {},
     "output_type": "execute_result"
    }
   ],
   "source": [
    "params = AgentConfig(\n",
    "    state_size=len(sample_state),\n",
    "    action_size=action_size,\n",
    "    prioritized_memory=False,\n",
    "    model_dir=\"../models/DuelingDQN-FlappyBird.pt\"\n",
    ")\n",
    "\n",
    "params.dict()"
   ]
  },
  {
   "cell_type": "markdown",
   "metadata": {},
   "source": [
    "### 4.1 Agent (Replay Memory) - Training"
   ]
  },
  {
   "cell_type": "code",
   "execution_count": 6,
   "metadata": {},
   "outputs": [
    {
     "name": "stdout",
     "output_type": "stream",
     "text": [
      "Episode 100\tAvg Score: 101.00\n",
      "Episode 200\tAvg Score: 101.00\n",
      "Episode 300\tAvg Score: 101.00\n",
      "Episode 400\tAvg Score: 101.00\n",
      "Episode 500\tAvg Score: 101.00\n",
      "Episode 600\tAvg Score: 101.00\n",
      "Episode 700\tAvg Score: 101.10\n",
      "Episode 800\tAvg Score: 101.00\n",
      "Episode 900\tAvg Score: 101.00\n",
      "Episode 1000\tAvg Score: 101.00\n",
      "Episode: 1000 - Score: 101.0\n",
      "Wall time: 1h 46min 41s\n"
     ]
    }
   ],
   "source": [
    "%%time\n",
    "\n",
    "agent = Agent(**params.dict())\n",
    "agent.prep_state = custom_prep_state\n",
    "\n",
    "trainer = Trainer(agent, env, n_episodes=3000, early_stop=200, verbose=True)\n",
    "trainer.run()\n",
    "\n",
    "print(f\"Episode: {trainer.last_episode} - Score: {trainer.best_score}\")"
   ]
  },
  {
   "cell_type": "markdown",
   "metadata": {},
   "source": [
    "### 4.2 Agent (Replay Memory) - Scores"
   ]
  },
  {
   "cell_type": "code",
   "execution_count": 7,
   "metadata": {},
   "outputs": [
    {
     "data": {
      "image/png": "[encoded data removed]",
      "text/plain": [
       "<Figure size 432x288 with 1 Axes>"
      ]
     },
     "metadata": {
      "needs_background": "light"
     },
     "output_type": "display_data"
    }
   ],
   "source": [
    "fig = plt.figure()\n",
    "ax = fig.add_subplot(111)\n",
    "plt.plot(np.arange(len(trainer.scores)), trainer.scores)\n",
    "plt.ylabel(\"Average Score\")\n",
    "plt.xlabel(\"Episode #\")\n",
    "plt.show()"
   ]
  },
  {
   "cell_type": "markdown",
   "metadata": {},
   "source": [
    "### 4.3 Agent (Replay Memory) - Losses"
   ]
  },
  {
   "cell_type": "code",
   "execution_count": 8,
   "metadata": {},
   "outputs": [
    {
     "data": {
      "image/png": "[encoded data removed]",
      "text/plain": [
       "<Figure size 432x288 with 1 Axes>"
      ]
     },
     "metadata": {
      "needs_background": "light"
     },
     "output_type": "display_data"
    }
   ],
   "source": [
    "plt.plot(agent.losses)\n",
    "plt.title(\"Losses\")\n",
    "plt.show()"
   ]
  },
  {
   "cell_type": "markdown",
   "metadata": {},
   "source": [
    "### 4.2 Agent (Prioritized Memory) - Training"
   ]
  },
  {
   "cell_type": "code",
   "execution_count": 10,
   "metadata": {},
   "outputs": [
    {
     "name": "stderr",
     "output_type": "stream",
     "text": [
      "C:\\ProgramData\\Anaconda3\\lib\\site-packages\\torch\\nn\\_reduction.py:42: UserWarning: size_average and reduce args will be deprecated, please use reduction='none' instead.\n",
      "  warnings.warn(warning.format(ret))\n"
     ]
    },
    {
     "name": "stdout",
     "output_type": "stream",
     "text": [
      "Episode 10\tAverage Score: 101.00\n",
      "Episode 20\tAverage Score: 101.00\n",
      "Episode 30\tAverage Score: 101.00\n",
      "Episode 40\tAverage Score: 101.00\n",
      "Episode 50\tAverage Score: 101.00\n",
      "Episode 60\tAverage Score: 101.00\n",
      "Episode 70\tAverage Score: 101.00\n",
      "Episode 80\tAverage Score: 101.00\n",
      "Episode 90\tAverage Score: 101.00\n",
      "Episode 100\tAverage Score: 101.00\n",
      "Episode 110\tAverage Score: 101.00\n",
      "Episode 120\tAverage Score: 101.00\n",
      "Episode 130\tAverage Score: 101.00\n",
      "Episode 140\tAverage Score: 101.00\n",
      "Episode 142\tAverage Score: 101.00"
     ]
    }
   ],
   "source": [
    "%%time\n",
    "\n",
    "params.prioritized_memory = True\n",
    "\n",
    "agent = Agent(**params.dict())\n",
    "agent.prep_state = custom_prep_state\n",
    "\n",
    "trainer = Trainer(agent, env, n_episodes=1000, early_stop=200, verbose=True)\n",
    "trainer.run()\n",
    "\n",
    "print(f\"Episode: {trainer.last_episode} - Score: {trainer.best_score}\")"
   ]
  },
  {
   "cell_type": "markdown",
   "metadata": {},
   "source": [
    "### 4.2 Agent (Prioritized Memory) - Scores"
   ]
  },
  {
   "cell_type": "code",
   "execution_count": null,
   "metadata": {},
   "outputs": [],
   "source": [
    "fig = plt.figure()\n",
    "ax = fig.add_subplot(111)\n",
    "plt.plot(np.arange(len(trainer.scores)), trainer.scores)\n",
    "plt.ylabel(\"Average Score\")\n",
    "plt.xlabel(\"Episode #\")\n",
    "plt.show()"
   ]
  },
  {
   "cell_type": "markdown",
   "metadata": {},
   "source": [
    "### 4.2 Agent (Prioritized Memory) - Losses"
   ]
  },
  {
   "cell_type": "code",
   "execution_count": null,
   "metadata": {},
   "outputs": [],
   "source": [
    "plt.plot(agent.losses)\n",
    "plt.title(\"Losses\")\n",
    "plt.show()"
   ]
  },
  {
   "cell_type": "markdown",
   "metadata": {},
   "source": [
    "## 5. Save network weights"
   ]
  },
  {
   "cell_type": "code",
   "execution_count": 30,
   "metadata": {},
   "outputs": [
    {
     "data": {
      "text/plain": [
       "'../models/DuelingDQN-FlappyBird.pt'"
      ]
     },
     "execution_count": 30,
     "metadata": {},
     "output_type": "execute_result"
    }
   ],
   "source": [
    "agent.save_model(params.model_dir)"
   ]
  },
  {
   "cell_type": "markdown",
   "metadata": {},
   "source": [
    "## 6. Load network weights"
   ]
  },
  {
   "cell_type": "code",
   "execution_count": null,
   "metadata": {},
   "outputs": [],
   "source": [
    "agent.load_model(params.model_dir)"
   ]
  },
  {
   "cell_type": "markdown",
   "metadata": {},
   "source": [
    "## 7. Test the agent"
   ]
  },
  {
   "cell_type": "code",
   "execution_count": 17,
   "metadata": {},
   "outputs": [
    {
     "name": "stdout",
     "output_type": "stream",
     "text": [
      "Score: 101\n"
     ]
    }
   ],
   "source": [
    "env = flappy_bird_gym.make(\"FlappyBird-rgb-v0\")\n",
    "\n",
    "play_env(agent, env, render=True)"
   ]
  },
  {
   "cell_type": "markdown",
   "metadata": {},
   "source": [
    "## 8. Conclusions\n",
    "\n",
    "Pending"
   ]
  }
 ],
 "metadata": {
  "interpreter": {
   "hash": "b3ba2566441a7c06988d0923437866b63cedc61552a5af99d1f4fb67d367b25f"
  },
  "kernelspec": {
   "display_name": "Python 3.8.8 64-bit ('base': conda)",
   "name": "python3"
  },
  "language_info": {
   "codemirror_mode": {
    "name": "ipython",
    "version": 3
   },
   "file_extension": ".py",
   "mimetype": "text/x-python",
   "name": "python",
   "nbconvert_exporter": "python",
   "pygments_lexer": "ipython3",
   "version": "3.8.8"
  }
 },
 "nbformat": 4,
 "nbformat_minor": 4
}
