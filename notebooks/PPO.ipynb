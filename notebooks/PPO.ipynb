{
 "cells": [
  {
   "cell_type": "markdown",
   "metadata": {},
   "source": [
    "# Flappy Bird - Proximal Policy Optimization\n",
    "\n",
    "In this notebook, we will implement a **Proximal Policy Optimization (PPO)** for the Flappy Bird game.\n",
    "\n",
    "\n",
    "\n",
    "## Index\n",
    "\n",
    "- [1. Initial Setup](#1.-Initial-Setup)\n",
    "- [2. Check the Gym environment](#2-check-the-gym-environment)\n",
    "- [3. Define custom functions](#3-define-custom-functions)\n",
    "- [4. Training the RL agent](#4-training-the-rl-agent)\n",
    "  - [4.1 Agent - Training](#4.1-agent-training)\n",
    "  - [4.1 Agent - Scores](#4.1-agent-scores)\n",
    "- [5. Save agent](#5-save-agent)\n",
    "- [6. Load agent](#6-load-agent)\n",
    "- [7. Test trained agent](#7-test-trained-agent)\n",
    "- [8. Conclusions](#8-conclusions)\n",
    "\n",
    "## References\n",
    "\n",
    "- [[1707.06347] Proximal Policy Optimization Algorithms](https://arxiv.org/abs/1707.06347)"
   ]
  },
  {
   "cell_type": "markdown",
   "metadata": {},
   "source": [
    "## 1. Initial Setup"
   ]
  },
  {
   "cell_type": "markdown",
   "metadata": {},
   "source": [
    "Add project root directory to the path."
   ]
  },
  {
   "cell_type": "code",
   "execution_count": 1,
   "metadata": {},
   "outputs": [],
   "source": [
    "import sys\n",
    "from pathlib import Path\n",
    "\n",
    "if str(Path(\".\").absolute().parent) not in sys.path:\n",
    "    sys.path.append(str(Path(\".\").absolute().parent))"
   ]
  },
  {
   "cell_type": "markdown",
   "metadata": {},
   "source": [
    "Imports modules"
   ]
  },
  {
   "cell_type": "code",
   "execution_count": 2,
   "metadata": {},
   "outputs": [],
   "source": [
    "import numpy as np\n",
    "import flappy_bird_gym\n",
    "import matplotlib.pyplot as plt\n",
    "\n",
    "from src.trainer import Trainer\n",
    "from src.utils import play_env, aggregate_list\n",
    "from src.ppo.agent import Agent\n",
    "from src.ppo.config import AgentConfig\n",
    "\n",
    "seed = 1993"
   ]
  },
  {
   "cell_type": "markdown",
   "metadata": {},
   "source": [
    "## 2. Check the Gym environment\n",
    "\n",
    "Before we start, we need to check how the environment works. For this, we will check the action space and observation space."
   ]
  },
  {
   "cell_type": "code",
   "execution_count": 3,
   "metadata": {},
   "outputs": [
    {
     "name": "stdout",
     "output_type": "stream",
     "text": [
      "Number of actions: 2\n",
      "Sample state shape: (2,)\n",
      "Sample state: [ 1.65625   -0.0546875]\n"
     ]
    }
   ],
   "source": [
    "env = flappy_bird_gym.make(\"FlappyBird-v0\")\n",
    "\n",
    "env.seed(seed)\n",
    "\n",
    "action_size = env.action_space.n\n",
    "state_size = env.observation_space.shape[0]\n",
    "\n",
    "print(f\"Number of actions: {action_size}\")\n",
    "print(f\"Sample state shape: {env.observation_space.shape}\")\n",
    "print(f\"Sample state: {env.reset()}\")"
   ]
  },
  {
   "cell_type": "markdown",
   "metadata": {},
   "source": [
    "## 3. Define custom functions\n",
    "\n",
    "In the next cell, we define a `custom_prep_state()` function that can be used to preprocess the state of the game.\n",
    "\n",
    "We will replace the original `prep_state()` (that does nothing) with this function."
   ]
  },
  {
   "cell_type": "code",
   "execution_count": 4,
   "metadata": {},
   "outputs": [
    {
     "name": "stdout",
     "output_type": "stream",
     "text": [
      "Shape of state: (1, 2)\n"
     ]
    },
    {
     "data": {
      "text/plain": [
       "array([[ 1.65625   , -0.01171875]])"
      ]
     },
     "execution_count": 4,
     "metadata": {},
     "output_type": "execute_result"
    }
   ],
   "source": [
    "def custom_prep_state(state: np.ndarray) -> np.ndarray:\n",
    "    \"\"\"\n",
    "    Custom preprocessing of the state.\n",
    "\n",
    "    This function replaces the default preprocessing of the state of the agent (prep_state())\n",
    "\n",
    "    Args:\n",
    "    - state: State to preprocess.\n",
    "\n",
    "    Returns:\n",
    "    - Preprocessed state.\n",
    "    \"\"\"\n",
    "    return state.reshape(1, -1)\n",
    "\n",
    "sample_state = custom_prep_state(env.reset())\n",
    "print(f\"Shape of state: {sample_state.shape}\")\n",
    "sample_state"
   ]
  },
  {
   "cell_type": "markdown",
   "metadata": {},
   "source": [
    "## 4. Training the RL agent\n",
    "\n",
    "First, we will instantiate the AgentConfig that defines the hyperparameters of our PPO Agent."
   ]
  },
  {
   "cell_type": "code",
   "execution_count": 5,
   "metadata": {},
   "outputs": [
    {
     "data": {
      "text/plain": [
       "{'state_size': 2,\n",
       " 'action_size': 2,\n",
       " 'seed': 1993,\n",
       " 'memory_size': 100000,\n",
       " 'nb_hidden': (64, 64),\n",
       " 'gamma': 0.99,\n",
       " 'lam': 0.97,\n",
       " 'target_kl': 0.01,\n",
       " 'policy_lr': 0.0003,\n",
       " 'value_lr': 0.001,\n",
       " 'train_policy_iters': 10,\n",
       " 'train_value_iters': 10,\n",
       " 'clip_ratio': 0.2,\n",
       " 'epsilon_enabled': True,\n",
       " 'epsilon_start': 1.0,\n",
       " 'epsilon_end': 0.01,\n",
       " 'epsilon_decay': 0.995,\n",
       " 'model_dir': '../models/PPO'}"
      ]
     },
     "execution_count": 5,
     "metadata": {},
     "output_type": "execute_result"
    }
   ],
   "source": [
    "params = AgentConfig(\n",
    "    state_size=sample_state.shape[1],\n",
    "    action_size=action_size,\n",
    "    seed=seed,\n",
    "    model_dir=\"../models/PPO\"\n",
    ")\n",
    "\n",
    "params.dict()"
   ]
  },
  {
   "cell_type": "markdown",
   "metadata": {},
   "source": [
    "Now, we will define the trainer parameters."
   ]
  },
  {
   "cell_type": "code",
   "execution_count": 6,
   "metadata": {},
   "outputs": [],
   "source": [
    "trainer_args = {\n",
    "    \"n_episodes\": 60000,\n",
    "    \"print_range\": 1000,\n",
    "    \"early_stop\": 120,\n",
    "    \"verbose\": True,\n",
    "}"
   ]
  },
  {
   "cell_type": "markdown",
   "metadata": {},
   "source": [
    "### 4.1 Agent - Training"
   ]
  },
  {
   "cell_type": "code",
   "execution_count": 14,
   "metadata": {},
   "outputs": [
    {
     "name": "stdout",
     "output_type": "stream",
     "text": [
      "Episode 1000\tAvg Score: 98.79\tEpsilon: 0.01\n",
      "Episode 2000\tAvg Score: 101.32\tEpsilon: 0.01\n",
      "Episode 3000\tAvg Score: 101.00\tEpsilon: 0.01\n",
      "Episode 4000\tAvg Score: 100.68\tEpsilon: 0.01\n",
      "Episode 5000\tAvg Score: 100.69\tEpsilon: 0.01\n",
      "Episode 6000\tAvg Score: 101.00\tEpsilon: 0.01\n",
      "Episode 7000\tAvg Score: 101.00\tEpsilon: 0.01\n",
      "Episode 8000\tAvg Score: 101.00\tEpsilon: 0.01\n",
      "Episode 9000\tAvg Score: 101.00\tEpsilon: 0.01\n",
      "Episode 10000\tAvg Score: 101.01\tEpsilon: 0.01\n",
      "Episode 11000\tAvg Score: 101.03\tEpsilon: 0.01\n",
      "Episode 12000\tAvg Score: 101.01\tEpsilon: 0.01\n",
      "Episode 13000\tAvg Score: 101.07\tEpsilon: 0.01\n",
      "Episode 14000\tAvg Score: 102.96\tEpsilon: 0.01\n",
      "Episode 15000\tAvg Score: 102.08\tEpsilon: 0.01\n",
      "Episode 16000\tAvg Score: 102.39\tEpsilon: 0.01\n",
      "Episode 17000\tAvg Score: 103.74\tEpsilon: 0.01\n",
      "Episode 18000\tAvg Score: 103.05\tEpsilon: 0.01\n",
      "Episode 19000\tAvg Score: 103.26\tEpsilon: 0.01\n",
      "Episode 20000\tAvg Score: 103.01\tEpsilon: 0.01\n",
      "Episode 21000\tAvg Score: 103.65\tEpsilon: 0.01\n",
      "Episode 22000\tAvg Score: 103.75\tEpsilon: 0.01\n",
      "Episode 23000\tAvg Score: 104.09\tEpsilon: 0.01\n",
      "Episode 24000\tAvg Score: 103.84\tEpsilon: 0.01\n",
      "Episode 25000\tAvg Score: 104.58\tEpsilon: 0.01\n",
      "Episode 26000\tAvg Score: 104.08\tEpsilon: 0.01\n",
      "Episode 27000\tAvg Score: 104.72\tEpsilon: 0.01\n",
      "Episode 28000\tAvg Score: 101.52\tEpsilon: 0.01\n",
      "Episode 29000\tAvg Score: 101.14\tEpsilon: 0.01\n",
      "Episode 30000\tAvg Score: 101.00\tEpsilon: 0.01\n",
      "Episode 31000\tAvg Score: 101.00\tEpsilon: 0.01\n",
      "Episode 32000\tAvg Score: 101.01\tEpsilon: 0.01\n",
      "Episode 33000\tAvg Score: 101.01\tEpsilon: 0.01\n",
      "Episode 34000\tAvg Score: 101.87\tEpsilon: 0.01\n",
      "Episode 35000\tAvg Score: 104.62\tEpsilon: 0.01\n",
      "Episode 36000\tAvg Score: 114.10\tEpsilon: 0.01\n",
      "Episode 36029\tAvg Score: 120.53\tEpsilon: 0.01\n",
      "Environment solved in 36029 episodes!\tAvg Score: 120.53\n",
      "Wall time: 1d 6h 5min 53s\n"
     ]
    },
    {
     "data": {
      "text/plain": [
       "True"
      ]
     },
     "execution_count": 14,
     "metadata": {},
     "output_type": "execute_result"
    }
   ],
   "source": [
    "%%time\n",
    "\n",
    "agent = Agent(**params.dict())\n",
    "\n",
    "# Add our custom prep_state function to the agent\n",
    "agent.prep_state = custom_prep_state\n",
    "\n",
    "trainer = Trainer(agent=agent, env=env, **trainer_args)\n",
    "trainer.run(logs_callback=agent.logs)"
   ]
  },
  {
   "cell_type": "markdown",
   "metadata": {},
   "source": [
    "### 4.2 Agent - Scores"
   ]
  },
  {
   "cell_type": "code",
   "execution_count": 51,
   "metadata": {},
   "outputs": [
    {
     "name": "stdout",
     "output_type": "stream",
     "text": [
      "Best score: 120.534 - (episode: 36029)\n",
      "Last score: 120.534 - (episode: 36029)\n"
     ]
    }
   ],
   "source": [
    "print(f\"Best score: {trainer.best_score} - (episode: {trainer.best_episode})\")\n",
    "print(f\"Last score: {trainer.last_score} - (episode: {trainer.last_episode})\")"
   ]
  },
  {
   "cell_type": "code",
   "execution_count": 15,
   "metadata": {},
   "outputs": [
    {
     "data": {
      "image/png": "[encoded data removed]",
      "text/plain": [
       "<Figure size 432x288 with 1 Axes>"
      ]
     },
     "metadata": {
      "needs_background": "light"
     },
     "output_type": "display_data"
    }
   ],
   "source": [
    "avg_scores = aggregate_list(trainer.scores, trainer_args[\"print_range\"])\n",
    "x = [i*trainer_args[\"print_range\"] for i in range(len(avg_scores))]\n",
    "\n",
    "fig = plt.figure()\n",
    "ax = fig.add_subplot(111)\n",
    "plt.plot(x, avg_scores)\n",
    "plt.ylabel(\"Average Score\")\n",
    "plt.xlabel(\"Episode #\")\n",
    "plt.show()"
   ]
  },
  {
   "cell_type": "markdown",
   "metadata": {},
   "source": [
    "## 5. Save agent"
   ]
  },
  {
   "cell_type": "code",
   "execution_count": null,
   "metadata": {},
   "outputs": [],
   "source": [
    "agent.save_model(params.model_dir)"
   ]
  },
  {
   "cell_type": "markdown",
   "metadata": {},
   "source": [
    "## 6. Load agent"
   ]
  },
  {
   "cell_type": "code",
   "execution_count": null,
   "metadata": {},
   "outputs": [],
   "source": [
    "del agent"
   ]
  },
  {
   "cell_type": "code",
   "execution_count": 7,
   "metadata": {},
   "outputs": [
    {
     "name": "stdout",
     "output_type": "stream",
     "text": [
      "WARNING:tensorflow:No training configuration found in save file, so the model was *not* compiled. Compile it manually.\n",
      "WARNING:tensorflow:No training configuration found in save file, so the model was *not* compiled. Compile it manually.\n"
     ]
    }
   ],
   "source": [
    "agent = Agent(**params.dict())\n",
    "agent.prep_state = custom_prep_state\n",
    "agent.epsilon_enabled = False\n",
    "\n",
    "agent.load_model(params.model_dir)"
   ]
  },
  {
   "cell_type": "markdown",
   "metadata": {},
   "source": [
    "## 7. Test trained agent"
   ]
  },
  {
   "cell_type": "code",
   "execution_count": 9,
   "metadata": {},
   "outputs": [
    {
     "name": "stdout",
     "output_type": "stream",
     "text": [
      "Score: 840.00\n",
      "Score: 692.00\n",
      "Score: 174.00\n",
      "Score: 527.00\n",
      "Score: 342.00\n",
      "Score: 506.00\n",
      "Score: 770.00\n",
      "Score: 897.00\n",
      "Score: 367.00\n",
      "Score: 1062.00\n"
     ]
    }
   ],
   "source": [
    "env = flappy_bird_gym.make(\"FlappyBird-v0\")\n",
    "env.seed(seed)\n",
    "\n",
    "for i in range(10):\n",
    "    play_env(agent, env, fps=30, render=True)"
   ]
  },
  {
   "cell_type": "markdown",
   "metadata": {},
   "source": [
    "## 8. Conclusions\n",
    "\n",
    "The Proximal Policy Optimization (PPO) algorithm is a powerful algorithm that can be used to learn playing the Flappy Bird game.\n",
    "\n",
    "We achieved good results with the PPO algorithm after training the agent for 36,000 episodes."
   ]
  }
 ],
 "metadata": {
  "interpreter": {
   "hash": "b3ba2566441a7c06988d0923437866b63cedc61552a5af99d1f4fb67d367b25f"
  },
  "kernelspec": {
   "display_name": "Python 3.8.8 64-bit ('base': conda)",
   "name": "python3"
  },
  "language_info": {
   "codemirror_mode": {
    "name": "ipython",
    "version": 3
   },
   "file_extension": ".py",
   "mimetype": "text/x-python",
   "name": "python",
   "nbconvert_exporter": "python",
   "pygments_lexer": "ipython3",
   "version": "3.8.8"
  }
 },
 "nbformat": 4,
 "nbformat_minor": 4
}
